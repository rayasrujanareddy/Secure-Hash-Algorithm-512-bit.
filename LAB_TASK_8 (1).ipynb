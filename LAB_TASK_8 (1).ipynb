{
  "nbformat": 4,
  "nbformat_minor": 0,
  "metadata": {
    "colab": {
      "provenance": []
    },
    "kernelspec": {
      "name": "python3",
      "display_name": "Python 3"
    },
    "language_info": {
      "name": "python"
    }
  },
  "cells": [
    {
      "cell_type": "markdown",
      "source": [
        "1) Write a program to generate Hash code for a given text using SHA 512"
      ],
      "metadata": {
        "id": "q-6GNnKuYCcf"
      }
    },
    {
      "cell_type": "code",
      "execution_count": null,
      "metadata": {
        "colab": {
          "base_uri": "https://localhost:8080/"
        },
        "id": "MFcK-YHeWUfS",
        "outputId": "26e13631-57f3-4b78-884b-eab9600fc2f7"
      },
      "outputs": [
        {
          "output_type": "stream",
          "name": "stdout",
          "text": [
            "Enter text: helloworld\n",
            "SHA-512 Hash: 1594244d52f2d8c12b142bb61f47bc2eaf503d6d9ca8480cae9fcf112f66e4967dc5e8fa98285e36db8af1b8ffa8b84cb15e0fbcf836c3deb803c13f37659a60\n"
          ]
        }
      ],
      "source": [
        "import hashlib\n",
        "\n",
        "text = input(\"Enter text: \")\n",
        "hash_code = hashlib.sha512(text.encode()).hexdigest()\n",
        "\n",
        "print(\"SHA-512 Hash:\", hash_code)"
      ]
    },
    {
      "cell_type": "markdown",
      "source": [
        "2) Write a program to send a message ensuring confidentiality and integrity\n",
        "Hint for 2:\n",
        "\n",
        "i) perform diffie hellman exchange (from previous lab) to generate a session key\n",
        "\n",
        "ii) Compute Hash code of the message text\n",
        "\n",
        "iii) use AES to encrypt the (text + hash code)\n",
        "\n",
        "iv) encrypt the (message + Hash Code)\n",
        "\n",
        "v) send it to client/server\n",
        "\n",
        "vi) decrypt the message\n",
        "\n",
        "vii) check the integrity."
      ],
      "metadata": {
        "id": "3gOx-77VYBwi"
      }
    },
    {
      "cell_type": "code",
      "source": [
        "import hashlib\n",
        "from cryptography.hazmat.primitives.asymmetric import ec\n",
        "from cryptography.hazmat.primitives.ciphers import Cipher, algorithms, modes\n",
        "from cryptography.hazmat.primitives import padding\n",
        "from cryptography.hazmat.backends import default_backend\n",
        "\n",
        "prv_A = ec.generate_private_key(ec.SECP256R1())\n",
        "prv_B = ec.generate_private_key(ec.SECP256R1())\n",
        "\n",
        "pub_A = prv_A.public_key()\n",
        "pub_B = prv_B.public_key()\n",
        "\n",
        "sec_A = prv_A.exchange(ec.ECDH(), pub_B)\n",
        "sec_B = prv_B.exchange(ec.ECDH(), pub_A)\n",
        "\n",
        "assert sec_A == sec_B, \"Key exchange failed!\"\n",
        "aes_k = sec_A[:16]\n",
        "\n",
        "def get_hash(msg):\n",
        "    return hashlib.sha512(msg.encode()).hexdigest()\n",
        "\n",
        "def enc_msg(msg, key):\n",
        "    msg_hash = get_hash(msg)\n",
        "    data = (msg + msg_hash).encode()\n",
        "\n",
        "    pad = padding.PKCS7(algorithms.AES.block_size).padder()\n",
        "    padded_data = pad.update(data) + pad.finalize()\n",
        "\n",
        "    cipher = Cipher(algorithms.AES(key), modes.ECB(), backend=default_backend())\n",
        "    enc = cipher.encryptor()\n",
        "\n",
        "    return enc.update(padded_data) + enc.finalize()\n",
        "\n",
        "def dec_msg(ct, key):\n",
        "    cipher = Cipher(algorithms.AES(key), modes.ECB(), backend=default_backend())\n",
        "    dec = cipher.decryptor()\n",
        "\n",
        "    dec_data = dec.update(ct) + dec.finalize()\n",
        "\n",
        "    unpad = padding.PKCS7(algorithms.AES.block_size).unpadder()\n",
        "    data = unpad.update(dec_data) + unpad.finalize()\n",
        "\n",
        "    msg = data[:-128].decode().strip()\n",
        "    rcv_hash = data[-128:].decode().strip()\n",
        "\n",
        "    return msg, \"Integrity Verified!\" if get_hash(msg) == rcv_hash else \"Integrity Check Failed!\"\n",
        "\n",
        "msg = \"Hello, Secure World!\"\n",
        "ct = enc_msg(msg, aes_k)\n",
        "\n",
        "print(\"\\nCiphertext:\", ct.hex())\n",
        "\n",
        "dec_msg, status = dec_msg(ct, aes_k)\n",
        "\n",
        "print(\"\\nDecrypted Message:\", dec_msg)\n",
        "print(\"Integrity Status:\", status)\n"
      ],
      "metadata": {
        "colab": {
          "base_uri": "https://localhost:8080/"
        },
        "id": "D38Fxg-mo133",
        "outputId": "82c825e8-72fb-42bd-bef8-625a3b0bb5d6"
      },
      "execution_count": null,
      "outputs": [
        {
          "output_type": "stream",
          "name": "stdout",
          "text": [
            "\n",
            "Ciphertext: a7f0335b8d3edc3df2f996ece52ea56ac442c3827c8ff40ded4191129529a6ae009d8852c7eb3546b0a4a65d69a3332792b10f7e41b082d8eea0ced0adb4ac8f49378121738c78e5ce4dd35150385c51057b26d6a10c1d90bd20e7a69f1640db7eba9a898c7995b9f4582a4de70003cd9980fc9d0516076227d595d466139fafff010fa61fd7a63b49468606978b529f20f673cfb8559b255275274920db0031\n",
            "\n",
            "Decrypted Message: Hello, Secure World!\n",
            "Integrity Status: Integrity Verified!\n"
          ]
        }
      ]
    }
  ]
}